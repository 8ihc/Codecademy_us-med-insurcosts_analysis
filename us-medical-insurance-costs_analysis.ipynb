{
 "cells": [
  {
   "cell_type": "markdown",
   "id": "a569191e",
   "metadata": {},
   "source": [
    "# U.S. Medical Insurance Costs"
   ]
  },
  {
   "cell_type": "markdown",
   "id": "38536274",
   "metadata": {},
   "source": [
    "## Scoping Project\n",
    "\n",
    "*source: http://www.datasciencepublicpolicy.org/our-work/tools-guides/data-science-project-scoping-guide/*\n",
    "\n",
    "\n",
    "- ##### Project Goals – Define the goal(s) of the project\n",
    "    \n",
    "    1. For different columns, develop different ways of analysis. Below are the examples provided by Codecademy.\n",
    "        - Find out the average age of the patients in the dataset.\n",
    "        - Analyze where a majority of the individuals are from.\n",
    "        - Figure out what the average age is for someone who has at least one child in this dataset.\n",
    "    \n",
    "    2. Find out what might cause higher charges of insurance cost. Below are the examples provided by Codecademy.\n",
    "        - Look at the different costs between smokers vs. non-smokers.\n",
    "        - Make predictions about what features are the most influential for an individual’s medical insurance charges based on analysis.\n",
    "    \n",
    "- ##### Actions – What actions/interventions do you have that this project will inform?\n",
    "- ##### Data – What data do you have access to internally? What data do you need? What can you augment from external and/or public sources?\n",
    "     Data source: https://www.kaggle.com/datasets/mirichoi0218/insurance\n",
    "- ##### Analysis – What analysis needs to be done? Does it involve description, detection, prediction, optimization, or behavior change? How will the analysis be validated?\n",
    "     Description: Primarily focused on understanding events and behaviors that have happened in the past. \n",
    "- ##### Ethical Considerations:  How have you thought through privacy, transparency, discrimination/equity, and accountability issues around this project?\n",
    "     Explore areas where the data may include bias and how that would impact potential use cases.\n"
   ]
  },
  {
   "cell_type": "markdown",
   "id": "9729e70f",
   "metadata": {},
   "source": [
    "## CSV file Columns Definition\n",
    "\n",
    "*source: https://www.kaggle.com/datasets/mirichoi0218/insurance*\n",
    "\n",
    "* age: age of primary beneficiary\n",
    "    \n",
    "* sex: insurance contractor gender, female, male\n",
    "\n",
    "* bmi: Body mass index, providing an understanding of body, weights that are relatively high or low relative to height,\n",
    "objective index of body weight (kg / m ^ 2) using the ratio of height to weight, ideally 18.5 to 24.9\n",
    "\n",
    "* children: Number of children covered by health insurance / Number of dependents\n",
    "\n",
    "* smoker: Smoking\n",
    "\n",
    "* region: the beneficiary's residential area in the US, northeast, southeast, southwest, northwest.\n",
    "\n",
    "* charges: Individual medical costs billed by health insurance\n"
   ]
  },
  {
   "cell_type": "code",
   "execution_count": 1,
   "id": "326bd4b0",
   "metadata": {},
   "outputs": [],
   "source": [
    "import csv"
   ]
  },
  {
   "cell_type": "code",
   "execution_count": 2,
   "id": "52e888ac",
   "metadata": {},
   "outputs": [],
   "source": [
    "#Create a dict to save each patient's data from the csv file, the dict key is assigned numbers starting from 1\n",
    "patient_infos = {}\n",
    "i = 1\n",
    "\n",
    "with open('insurance.csv') as file:\n",
    "    infos = csv.DictReader(file)\n",
    "    for info in infos:\n",
    "        patient_infos.update({f'Patient {i}': info})\n",
    "        i += 1\n",
    "        \n",
    "#print(patient_infos)"
   ]
  },
  {
   "cell_type": "markdown",
   "id": "1f2e4a5b",
   "metadata": {},
   "source": [
    "To fulfill the project goals listed above, a class called `PatientsInfo` has been built out which contains eight methods:\n",
    "* `average_age()`\n",
    "* `major_region()`\n",
    "* `average_age_with_kids()`\n",
    "* `costs_vs_smoke()`\n",
    "* `costs_vs_kids()`\n",
    "* `costs_vs_genders()`\n",
    "* `age_groups()`\n",
    "* `average_costs_vs_ages()`\n",
    "\n",
    "The class has been built out below. "
   ]
  },
  {
   "cell_type": "code",
   "execution_count": 3,
   "id": "c12db4d4",
   "metadata": {},
   "outputs": [],
   "source": [
    "class PatientsInfo:\n",
    "    def __init__(self, patients_info):\n",
    "        self.patients_info = patients_info\n",
    "\n",
    "    #method that calculates the average age of the patients\n",
    "    def average_age(self):\n",
    "        sum = 0\n",
    "        for info in self.patients_info.values():\n",
    "            sum += int(info['age'])\n",
    "            average_age = round(sum / len(self.patients_info), 2)\n",
    "        return average_age\n",
    "    \n",
    "    #method that finds out where a majority of the patients are from \n",
    "    def major_region(self):\n",
    "        regions = {}    #To record number of patients in each region\n",
    "        max = 0\n",
    "        region_ = ''\n",
    "        for info in self.patients_info.values():\n",
    "            if info['region'] not in regions:\n",
    "                regions[info['region']] = 1\n",
    "            else:\n",
    "                regions[info['region']] += 1\n",
    "        for region, num_ppl in regions.items():\n",
    "            if num_ppl > max:\n",
    "                max = num_ppl\n",
    "                region_ = region\n",
    "        return regions, region_, max\n",
    "    \n",
    "    #method that calculates the average age for patients who has at least one child\n",
    "    def average_age_with_kids(self):\n",
    "        counter = 0\n",
    "        sum = 0\n",
    "        for info in self.patients_info.values():\n",
    "            if info['children'] != '0':\n",
    "                counter += 1\n",
    "                sum += int(info['age'])\n",
    "        average_age = round(sum / counter, 2)\n",
    "        return average_age\n",
    "    \n",
    "    #method that compares the insurance costs between smokers vs. non-smokers\n",
    "    def costs_vs_smoke(self):\n",
    "        smoker_sum = 0\n",
    "        nonsmoker_sum = 0\n",
    "        s_counter = 0\n",
    "        ns_counter = 0\n",
    "        for info in self.patients_info.values():\n",
    "            if info['smoker'] == 'yes':\n",
    "                smoker_sum += float(info['charges'])\n",
    "                s_counter += 1\n",
    "            else:\n",
    "                nonsmoker_sum += float(info['charges'])\n",
    "                ns_counter += 1\n",
    "        average_s_cost = round(smoker_sum/s_counter, 2)\n",
    "        average_ns_cost = round(nonsmoker_sum/ns_counter, 2)\n",
    "        costs_diff = abs(average_s_cost - average_ns_cost)\n",
    "        return average_s_cost, average_ns_cost, costs_diff\n",
    "    \n",
    "    #method that compares the insurance costs between patients with and without kids\n",
    "    def costs_vs_kids(self):\n",
    "        kids_sum = 0\n",
    "        nokids_sum = 0\n",
    "        k_counter = 0\n",
    "        nk_counter = 0\n",
    "        for info in self.patients_info.values():\n",
    "            if info['children'] != '0':\n",
    "                kids_sum += float(info['charges'])\n",
    "                k_counter += 1\n",
    "            else:\n",
    "                nokids_sum += float(info['charges'])\n",
    "                nk_counter += 1\n",
    "        average_k_cost = round(kids_sum/k_counter, 2)\n",
    "        average_nk_cost = round(nokids_sum/nk_counter, 2)\n",
    "        costs_diff = abs(average_k_cost - average_nk_cost)\n",
    "        return average_k_cost, average_nk_cost, costs_diff\n",
    "    \n",
    "    #method that compares the insurance costs between female and male patients\n",
    "    def costs_vs_genders(self):\n",
    "        f_sum = 0\n",
    "        m_sum = 0\n",
    "        f_counter = 0\n",
    "        m_counter = 0\n",
    "        for info in self.patients_info.values():\n",
    "            if info['sex'] == 'female':\n",
    "                f_sum += float(info['charges'])\n",
    "                f_counter += 1\n",
    "            else:\n",
    "                m_sum += float(info['charges'])\n",
    "                m_counter += 1\n",
    "        average_f_cost = round(f_sum/f_counter, 2)\n",
    "        average_m_cost = round(m_sum/m_counter, 2)\n",
    "        costs_diff = abs(average_f_cost - average_m_cost)\n",
    "        return average_f_cost, average_m_cost, costs_diff\n",
    "    \n",
    "    #method that seperate the patients info into different age groups\n",
    "    #As I found the ages in the dataset are ranged from 18 to 64 years old. So, I seperate them into 5 age groups\n",
    "    def age_groups(self):\n",
    "        age_groups_dict = {}\n",
    "        age18_26 = []\n",
    "        age27_35 = []\n",
    "        age36_44 = []\n",
    "        age45_53 = []\n",
    "        age54_64 = []\n",
    "        for info in self.patients_info.values():\n",
    "            if int(info['age']) in range(18, 27):\n",
    "                age18_26.append(info)\n",
    "            elif int(info['age']) in range(27, 36):\n",
    "                age27_35.append(info)\n",
    "            elif int(info['age']) in range(36, 45):\n",
    "                age36_44.append(info)\n",
    "            elif int(info['age']) in range(45, 54):\n",
    "                age45_53.append(info)\n",
    "            elif int(info['age']) in range(54, 65):\n",
    "                age54_64.append(info)\n",
    "            age_groups_dict['age 18 to 26'] = age18_26\n",
    "            age_groups_dict['age 27 to 35'] = age27_35\n",
    "            age_groups_dict['age 36 to 44'] = age36_44\n",
    "            age_groups_dict['age 45 to 53'] = age45_53\n",
    "            age_groups_dict['age 54 to 64'] = age54_64\n",
    "        return age_groups_dict\n",
    "    \n",
    "        \n",
    "    #method that calculates the average insurance costs among different age groups\n",
    "    def average_costs_vs_ages(self, age_groups_dict):\n",
    "        average_age_group_costs = {}\n",
    "        for age_group, infos in age_groups_dict.items():\n",
    "            sum = 0\n",
    "            for info in infos:\n",
    "                sum += float(info['charges'])\n",
    "            average_age_group_costs[age_group] = round(sum/len(infos), 2)\n",
    "        return average_age_group_costs\n"
   ]
  },
  {
   "cell_type": "markdown",
   "id": "8abd0137",
   "metadata": {},
   "source": [
    "The next step is to create an instance of the class called `Patient_infos`. With this instance, each method can be used to see the results of the analysis."
   ]
  },
  {
   "cell_type": "code",
   "execution_count": 42,
   "id": "2b580cad",
   "metadata": {},
   "outputs": [],
   "source": [
    "Patient_infos = PatientsInfo(patient_infos)"
   ]
  },
  {
   "cell_type": "markdown",
   "id": "ed7d4e8a",
   "metadata": {},
   "source": [
    "### Goal #1  Average Age for All Patients"
   ]
  },
  {
   "cell_type": "code",
   "execution_count": 43,
   "id": "c79a7e5b",
   "metadata": {},
   "outputs": [
    {
     "data": {
      "text/plain": [
       "39.21"
      ]
     },
     "execution_count": 43,
     "metadata": {},
     "output_type": "execute_result"
    }
   ],
   "source": [
    "Patient_infos.average_age()"
   ]
  },
  {
   "cell_type": "markdown",
   "id": "df1509da",
   "metadata": {},
   "source": [
    "The average age of the patients is 39.21 years old."
   ]
  },
  {
   "cell_type": "markdown",
   "id": "977b070b",
   "metadata": {},
   "source": [
    "### Goal #2  Major Region"
   ]
  },
  {
   "cell_type": "code",
   "execution_count": 44,
   "id": "71e54d91",
   "metadata": {},
   "outputs": [
    {
     "data": {
      "text/plain": [
       "({'southwest': 325, 'southeast': 364, 'northwest': 325, 'northeast': 324},\n",
       " 'southeast',\n",
       " 364)"
      ]
     },
     "execution_count": 44,
     "metadata": {},
     "output_type": "execute_result"
    }
   ],
   "source": [
    "Patient_infos.major_region()"
   ]
  },
  {
   "cell_type": "markdown",
   "id": "0384fb27",
   "metadata": {},
   "source": [
    "The patients are separated into 4 regions. There are 325 patients from Southwest, 364 patients from Southeast, 325 patiens from Northwest, and 324 patients from Northeast.\n",
    "\n",
    "The major regions is Southeast with 364 patients."
   ]
  },
  {
   "cell_type": "markdown",
   "id": "c3b1560a",
   "metadata": {},
   "source": [
    "### Goal #3  Average Age for Patients With At Least One Child"
   ]
  },
  {
   "cell_type": "code",
   "execution_count": 45,
   "id": "f577b732",
   "metadata": {
    "scrolled": true
   },
   "outputs": [
    {
     "data": {
      "text/plain": [
       "39.78"
      ]
     },
     "execution_count": 45,
     "metadata": {},
     "output_type": "execute_result"
    }
   ],
   "source": [
    "Patient_infos.average_age_with_kids()"
   ]
  },
  {
   "cell_type": "markdown",
   "id": "dc268afe",
   "metadata": {},
   "source": [
    "The average age of the patients with at least one child is 39.78 years old. It's jsut slightly higher than the average age of all patients, which is 39.21 years old."
   ]
  },
  {
   "cell_type": "markdown",
   "id": "c8cc4b31",
   "metadata": {},
   "source": [
    "### Goal #4 Comparison of Insurance Costs Among Smokers and Non-smokers"
   ]
  },
  {
   "cell_type": "code",
   "execution_count": 46,
   "id": "1dbfc5db",
   "metadata": {},
   "outputs": [
    {
     "data": {
      "text/plain": [
       "(32050.23, 8434.27, 23615.96)"
      ]
     },
     "execution_count": 46,
     "metadata": {},
     "output_type": "execute_result"
    }
   ],
   "source": [
    "Patient_infos.costs_vs_smoke()"
   ]
  },
  {
   "cell_type": "markdown",
   "id": "2e040999",
   "metadata": {},
   "source": [
    "The average insurance costs for patients who smoke is 32050.23 dollars. \n",
    "While, the average insurance costs for patients who DO NOT smoke is 8434.27 dollars. \n",
    "So the difference of the insurance costs between smokers vs. non-smokers is 23615.96 dollars, which is quite a big gap.\n",
    "\n",
    "`The insurance cost would be possibly higher for smokers.`"
   ]
  },
  {
   "cell_type": "markdown",
   "id": "237f8d69",
   "metadata": {},
   "source": [
    "### Goal #5 Comparison of Insurance Costs Among Patients With And Without Children"
   ]
  },
  {
   "cell_type": "code",
   "execution_count": 47,
   "id": "f4e9d9ab",
   "metadata": {},
   "outputs": [
    {
     "data": {
      "text/plain": [
       "(13949.94, 12365.98, 1583.960000000001)"
      ]
     },
     "execution_count": 47,
     "metadata": {},
     "output_type": "execute_result"
    }
   ],
   "source": [
    "Patient_infos.costs_vs_kids()"
   ]
  },
  {
   "cell_type": "markdown",
   "id": "a586ceb8",
   "metadata": {},
   "source": [
    "The average insurance costs of patients with at least one children is 13949.94 dollars. \n",
    "While, the average insurance costs of patients without children is 12365.98 dollars.\n",
    "So the difference of the insurance costs between patients with and without children is 1583.96 dollars. \n",
    "\n",
    "`The insurance cost would be possibly higher for people who have children.`"
   ]
  },
  {
   "cell_type": "markdown",
   "id": "6d07e09a",
   "metadata": {},
   "source": [
    "### Goal #6 Comparison of Insurance Costs Between Females And Males"
   ]
  },
  {
   "cell_type": "code",
   "execution_count": 48,
   "id": "aaca1d2f",
   "metadata": {},
   "outputs": [
    {
     "data": {
      "text/plain": [
       "(12569.58, 13956.75, 1387.17)"
      ]
     },
     "execution_count": 48,
     "metadata": {},
     "output_type": "execute_result"
    }
   ],
   "source": [
    "Patient_infos.costs_vs_genders()"
   ]
  },
  {
   "cell_type": "markdown",
   "id": "348c9e6c",
   "metadata": {},
   "source": [
    "The average insurance costs of female patients is 12569.58 dollars.\n",
    "While the average insurance costs of male patients is 13956.75 dollars. \n",
    "So the difference of the insurance costs between female and male patients is 1387.17 dollars. \n",
    "\n",
    "`The insurance cost would be possibly higher for males.`"
   ]
  },
  {
   "cell_type": "markdown",
   "id": "544fbe43",
   "metadata": {},
   "source": [
    "### Goal #7 Comparison of Insurance Costs Among Different Age Groups"
   ]
  },
  {
   "cell_type": "code",
   "execution_count": 49,
   "id": "966bb261",
   "metadata": {},
   "outputs": [
    {
     "data": {
      "text/plain": [
       "{'age 18 to 26': 8839.44,\n",
       " 'age 27 to 35': 11003.99,\n",
       " 'age 36 to 44': 13328.53,\n",
       " 'age 45 to 53': 15539.92,\n",
       " 'age 54 to 64': 18538.71}"
      ]
     },
     "execution_count": 49,
     "metadata": {},
     "output_type": "execute_result"
    }
   ],
   "source": [
    "age_groups_dict = Patient_infos.age_groups()\n",
    "#print(age_groups_dict)\n",
    "\n",
    "Patient_infos.average_costs_vs_ages(age_groups_dict)"
   ]
  },
  {
   "cell_type": "markdown",
   "id": "a6a54d88",
   "metadata": {},
   "source": [
    "The average insurance costs of patients from age 18 to 26 is 8839.44 dollars; from age 27 to 35 is 11003.99 dollars; from age 36 to 44 is 13328.53 dollars; from age 45 to 53 is 15539.92 dollars; and from age 54 to 64 is 18538.71 dollars. \n",
    "\n",
    "`The insurance cost would be possibly higher when people gets older.`"
   ]
  },
  {
   "cell_type": "markdown",
   "id": "f6cf59cd",
   "metadata": {},
   "source": [
    "### Ethical Considerations\n",
    "     \n",
    "To explore areas where the data may include bias and how that would impact potential use cases, a class called `CheckBias` has been built out which contains one method:\n",
    "\n",
    "* `count_ratio()`\n",
    "\n",
    "The class has been built out below. "
   ]
  },
  {
   "cell_type": "code",
   "execution_count": 17,
   "id": "37fc0577",
   "metadata": {},
   "outputs": [],
   "source": [
    "class CheckBias:\n",
    "    def __init__(self, patients_info, total_patients):\n",
    "        self.patients_info = patients_info\n",
    "        self.total_patients = total_patients\n",
    "    \n",
    "    #method that counts the ratio of target patients in certain category in the dataset\n",
    "    #including sex, children status, smoking status, regions spread\n",
    "    #eg: first count how many female patients in category 'sex', then turn it into a ratio with the number of total patients\n",
    "    def count_ratio(self, category, target):\n",
    "        counter = 0\n",
    "        for info in self.patients_info.values():\n",
    "            if info[category] == target:\n",
    "                counter += 1\n",
    "        ratio = round(counter / self.total_patients, 2)\n",
    "        return ratio\n"
   ]
  },
  {
   "cell_type": "code",
   "execution_count": 18,
   "id": "90bc2b85",
   "metadata": {},
   "outputs": [],
   "source": [
    "total_patients = len(patient_infos)\n",
    "#print(total_patients)\n",
    "\n",
    "check_bias = CheckBias(patient_infos, total_patients)"
   ]
  },
  {
   "cell_type": "code",
   "execution_count": 50,
   "id": "99f7ec8e",
   "metadata": {
    "scrolled": true
   },
   "outputs": [],
   "source": [
    "female_r = check_bias.count_ratio('sex', 'female')\n",
    "male_r = check_bias.count_ratio('sex', 'male')\n",
    "no_kids_r = check_bias.count_ratio('children', '0')\n",
    "with_kids_r = 1 - no_kids_r\n",
    "smoker_r = check_bias.count_ratio('smoker', 'yes')\n",
    "non_smoker_r = check_bias.count_ratio('smoker', 'no')\n",
    "region_sw_r = check_bias.count_ratio('region', 'southwest')\n",
    "region_se_r = check_bias.count_ratio('region', 'southeast')\n",
    "region_nw_r = check_bias.count_ratio('region', 'northwest')\n",
    "region_ne_r = check_bias.count_ratio('region', 'northeast')"
   ]
  },
  {
   "cell_type": "code",
   "execution_count": 51,
   "id": "74baa41b",
   "metadata": {},
   "outputs": [],
   "source": [
    "#creat a dict to save the results of the ratios for each category\n",
    "ratio_dict = {'Sex': {'female':female_r, 'male':male_r}, \n",
    "              'Children Status':{'without_kids':no_kids_r, 'with_kids':with_kids_r},\n",
    "              'Smoking Status':{'smoker':smoker_r, 'non_smoker':non_smoker_r},\n",
    "              'Regions Spread':{'southwest':region_sw_r, 'southeast':region_se_r, 'northwest':region_nw_r, 'northeast':region_ne_r}\n",
    "             }"
   ]
  },
  {
   "cell_type": "code",
   "execution_count": 36,
   "id": "a02d2b58",
   "metadata": {},
   "outputs": [
    {
     "name": "stdout",
     "output_type": "stream",
     "text": [
      "{'Sex': {'female': 0.49, 'male': 0.51}, 'Children Status': {'without_kids': 0.43, 'with_kids': 0.5700000000000001}, 'Smoking Status': {'smoker': 0.2, 'non_smoker': 0.8}, 'Regions Spread': {'southwest': 0.24, 'southeast': 0.27, 'northwest': 0.24, 'northeast': 0.24}}\n"
     ]
    }
   ],
   "source": [
    "print(ratio_dict)"
   ]
  },
  {
   "cell_type": "markdown",
   "id": "b9d0222b",
   "metadata": {},
   "source": [
    "## Findings And Precdtions\n",
    "\n",
    "\n",
    "* `The average age of the patients in the dataset is 39.21 years old. `\n",
    "* `The average age for patients who has at least one child is 39.78 years old.`\n",
    "* `The majority of the individuals in the dataset are from southeast, which are 364 people. `\n",
    "* `The insurance cost would be possibly higher for smokers.`\n",
    "* `The insurance cost would be possibly higher for people who have children.`\n",
    "* `The insurance cost would be possibly higher for males.`\n",
    "* `The insurance cost would be possibly higher when people gets older.`\n",
    "\n",
    "\n",
    "## Possible Bias In the Dataset\n",
    "\n",
    "In the dataset, if looking at the ratios of sex, children status, smoking status and regions spread, one could find that the ratios of smoking status is relatively unbalanced, which is 1 to 4 for Smokers and Non-Smokers. So, eventhough in the analysis, it shows that the average insurance costs for smokers is 23615.96 dollars higher than non-smokers, which is a great gap comparing to other factors. It would be better to collect more smokers' insurance costs data to lessen the possible bias in the dataset."
   ]
  }
 ],
 "metadata": {
  "kernelspec": {
   "display_name": "Python 3 (ipykernel)",
   "language": "python",
   "name": "python3"
  },
  "language_info": {
   "codemirror_mode": {
    "name": "ipython",
    "version": 3
   },
   "file_extension": ".py",
   "mimetype": "text/x-python",
   "name": "python",
   "nbconvert_exporter": "python",
   "pygments_lexer": "ipython3",
   "version": "3.9.5"
  }
 },
 "nbformat": 4,
 "nbformat_minor": 5
}
